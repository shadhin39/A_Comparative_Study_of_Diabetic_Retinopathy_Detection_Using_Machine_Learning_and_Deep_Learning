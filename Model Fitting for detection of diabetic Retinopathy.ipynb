{
 "cells": [
  {
   "cell_type": "code",
   "execution_count": 1,
   "metadata": {},
   "outputs": [],
   "source": [
    "from scipy import misc\n",
    "from PIL import Image\n",
    "from skimage import exposure\n",
    "from sklearn import svm\n",
    "from sklearn.model_selection import learning_curve\n",
    "import scipy\n",
    "from math import sqrt,pi\n",
    "from numpy import exp\n",
    "from matplotlib import pyplot as plt\n",
    "import numpy as np\n",
    "import glob\n",
    "import matplotlib.pyplot as pltss\n",
    "import cv2\n",
    "from matplotlib import cm\n",
    "import pandas as pd\n",
    "from math import pi, sqrt\n",
    "import pywt\n"
   ]
  },
  {
   "cell_type": "markdown",
   "metadata": {},
   "source": [
    "# Dataset Read"
   ]
  },
  {
   "cell_type": "code",
   "execution_count": 2,
   "metadata": {},
   "outputs": [],
   "source": [
    "#df=pd.read_csv('features_with_labels.csv')\n",
    "df=pd.read_csv('Allfeatures_and_labels.csv')\n",
    "target=df.Label\n",
    "features=df.drop('IMAGE_NAME',axis='columns')\n",
    "features=features.drop('Label',axis='columns')"
   ]
  },
  {
   "cell_type": "markdown",
   "metadata": {},
   "source": [
    "# Feature Scaling"
   ]
  },
  {
   "cell_type": "code",
   "execution_count": 3,
   "metadata": {},
   "outputs": [],
   "source": [
    "from sklearn.preprocessing import MinMaxScaler\n",
    "min_max_scaler = MinMaxScaler()\n",
    "features = min_max_scaler.fit_transform(features)"
   ]
  },
  {
   "cell_type": "code",
   "execution_count": 4,
   "metadata": {},
   "outputs": [
    {
     "data": {
      "text/html": [
       "<div>\n",
       "<style scoped>\n",
       "    .dataframe tbody tr th:only-of-type {\n",
       "        vertical-align: middle;\n",
       "    }\n",
       "\n",
       "    .dataframe tbody tr th {\n",
       "        vertical-align: top;\n",
       "    }\n",
       "\n",
       "    .dataframe thead th {\n",
       "        text-align: right;\n",
       "    }\n",
       "</style>\n",
       "<table border=\"1\" class=\"dataframe\">\n",
       "  <thead>\n",
       "    <tr style=\"text-align: right;\">\n",
       "      <th></th>\n",
       "      <th>0</th>\n",
       "      <th>1</th>\n",
       "      <th>2</th>\n",
       "      <th>3</th>\n",
       "      <th>4</th>\n",
       "      <th>5</th>\n",
       "      <th>6</th>\n",
       "    </tr>\n",
       "  </thead>\n",
       "  <tbody>\n",
       "    <tr>\n",
       "      <th>0</th>\n",
       "      <td>0.062552</td>\n",
       "      <td>0.411518</td>\n",
       "      <td>0.695633</td>\n",
       "      <td>0.195331</td>\n",
       "      <td>0.012613</td>\n",
       "      <td>0.064103</td>\n",
       "      <td>0.669950</td>\n",
       "    </tr>\n",
       "    <tr>\n",
       "      <th>1</th>\n",
       "      <td>0.422623</td>\n",
       "      <td>0.465129</td>\n",
       "      <td>0.604636</td>\n",
       "      <td>0.583400</td>\n",
       "      <td>0.000000</td>\n",
       "      <td>0.007326</td>\n",
       "      <td>0.754513</td>\n",
       "    </tr>\n",
       "    <tr>\n",
       "      <th>2</th>\n",
       "      <td>0.333178</td>\n",
       "      <td>0.267575</td>\n",
       "      <td>0.451926</td>\n",
       "      <td>0.525206</td>\n",
       "      <td>0.010383</td>\n",
       "      <td>0.102564</td>\n",
       "      <td>0.605965</td>\n",
       "    </tr>\n",
       "    <tr>\n",
       "      <th>3</th>\n",
       "      <td>0.214964</td>\n",
       "      <td>0.398748</td>\n",
       "      <td>0.544925</td>\n",
       "      <td>0.578566</td>\n",
       "      <td>0.054607</td>\n",
       "      <td>0.111722</td>\n",
       "      <td>0.486380</td>\n",
       "    </tr>\n",
       "    <tr>\n",
       "      <th>4</th>\n",
       "      <td>0.295360</td>\n",
       "      <td>0.317961</td>\n",
       "      <td>0.592465</td>\n",
       "      <td>0.105913</td>\n",
       "      <td>0.003769</td>\n",
       "      <td>0.001832</td>\n",
       "      <td>0.517865</td>\n",
       "    </tr>\n",
       "    <tr>\n",
       "      <th>...</th>\n",
       "      <td>...</td>\n",
       "      <td>...</td>\n",
       "      <td>...</td>\n",
       "      <td>...</td>\n",
       "      <td>...</td>\n",
       "      <td>...</td>\n",
       "      <td>...</td>\n",
       "    </tr>\n",
       "    <tr>\n",
       "      <th>495</th>\n",
       "      <td>0.361866</td>\n",
       "      <td>0.176585</td>\n",
       "      <td>0.320536</td>\n",
       "      <td>0.605308</td>\n",
       "      <td>0.009922</td>\n",
       "      <td>0.034799</td>\n",
       "      <td>0.656390</td>\n",
       "    </tr>\n",
       "    <tr>\n",
       "      <th>496</th>\n",
       "      <td>0.403441</td>\n",
       "      <td>0.358972</td>\n",
       "      <td>0.815401</td>\n",
       "      <td>0.590980</td>\n",
       "      <td>0.020458</td>\n",
       "      <td>0.064103</td>\n",
       "      <td>0.675030</td>\n",
       "    </tr>\n",
       "    <tr>\n",
       "      <th>497</th>\n",
       "      <td>0.238128</td>\n",
       "      <td>0.389324</td>\n",
       "      <td>0.513777</td>\n",
       "      <td>0.529739</td>\n",
       "      <td>0.000000</td>\n",
       "      <td>0.000000</td>\n",
       "      <td>0.583080</td>\n",
       "    </tr>\n",
       "    <tr>\n",
       "      <th>498</th>\n",
       "      <td>0.489155</td>\n",
       "      <td>0.341726</td>\n",
       "      <td>0.699732</td>\n",
       "      <td>0.465703</td>\n",
       "      <td>0.000000</td>\n",
       "      <td>0.001832</td>\n",
       "      <td>0.656151</td>\n",
       "    </tr>\n",
       "    <tr>\n",
       "      <th>499</th>\n",
       "      <td>0.310244</td>\n",
       "      <td>0.468915</td>\n",
       "      <td>0.644548</td>\n",
       "      <td>0.756169</td>\n",
       "      <td>0.000000</td>\n",
       "      <td>0.000000</td>\n",
       "      <td>0.769622</td>\n",
       "    </tr>\n",
       "  </tbody>\n",
       "</table>\n",
       "<p>500 rows × 7 columns</p>\n",
       "</div>"
      ],
      "text/plain": [
       "            0         1         2         3         4         5         6\n",
       "0    0.062552  0.411518  0.695633  0.195331  0.012613  0.064103  0.669950\n",
       "1    0.422623  0.465129  0.604636  0.583400  0.000000  0.007326  0.754513\n",
       "2    0.333178  0.267575  0.451926  0.525206  0.010383  0.102564  0.605965\n",
       "3    0.214964  0.398748  0.544925  0.578566  0.054607  0.111722  0.486380\n",
       "4    0.295360  0.317961  0.592465  0.105913  0.003769  0.001832  0.517865\n",
       "..        ...       ...       ...       ...       ...       ...       ...\n",
       "495  0.361866  0.176585  0.320536  0.605308  0.009922  0.034799  0.656390\n",
       "496  0.403441  0.358972  0.815401  0.590980  0.020458  0.064103  0.675030\n",
       "497  0.238128  0.389324  0.513777  0.529739  0.000000  0.000000  0.583080\n",
       "498  0.489155  0.341726  0.699732  0.465703  0.000000  0.001832  0.656151\n",
       "499  0.310244  0.468915  0.644548  0.756169  0.000000  0.000000  0.769622\n",
       "\n",
       "[500 rows x 7 columns]"
      ]
     },
     "execution_count": 4,
     "metadata": {},
     "output_type": "execute_result"
    }
   ],
   "source": [
    "features=pd.DataFrame(features)\n",
    "features"
   ]
  },
  {
   "cell_type": "markdown",
   "metadata": {},
   "source": [
    "# Feature Slection using correlation"
   ]
  },
  {
   "cell_type": "code",
   "execution_count": 5,
   "metadata": {},
   "outputs": [],
   "source": [
    "def correlation(dataset, threshold):\n",
    "    col_corr = set()  # Set of all the names of correlated columns\n",
    "    corr_matrix = dataset.corr()\n",
    "    for i in range(len(corr_matrix.columns)):\n",
    "        for j in range(i):\n",
    "            if abs(corr_matrix.iloc[i, j]) > threshold: # we are interested in absolute coeff value\n",
    "                colname = corr_matrix.columns[i]  # getting the name of column\n",
    "                col_corr.add(colname)\n",
    "    return col_corr"
   ]
  },
  {
   "cell_type": "code",
   "execution_count": 6,
   "metadata": {},
   "outputs": [
    {
     "data": {
      "text/plain": [
       "1"
      ]
     },
     "execution_count": 6,
     "metadata": {},
     "output_type": "execute_result"
    }
   ],
   "source": [
    "corr_features = correlation(features,0.65)\n",
    "len(set(corr_features))"
   ]
  },
  {
   "cell_type": "code",
   "execution_count": 7,
   "metadata": {},
   "outputs": [
    {
     "name": "stdout",
     "output_type": "stream",
     "text": [
      "{2}\n"
     ]
    }
   ],
   "source": [
    "print(corr_features)"
   ]
  },
  {
   "cell_type": "code",
   "execution_count": 8,
   "metadata": {},
   "outputs": [],
   "source": [
    "features=features.drop(corr_features,axis=1)"
   ]
  },
  {
   "cell_type": "markdown",
   "metadata": {},
   "source": [
    "# Model Training and accuracy measure"
   ]
  },
  {
   "cell_type": "code",
   "execution_count": 9,
   "metadata": {},
   "outputs": [],
   "source": [
    "from sklearn.model_selection import GridSearchCV"
   ]
  },
  {
   "cell_type": "code",
   "execution_count": 10,
   "metadata": {},
   "outputs": [],
   "source": [
    "from sklearn.svm import SVC\n",
    "from sklearn.ensemble import RandomForestClassifier\n",
    "from sklearn.neighbors import KNeighborsClassifier\n",
    "from sklearn.naive_bayes import GaussianNB\n",
    "from sklearn.linear_model import LogisticRegression\n",
    "from sklearn import tree"
   ]
  },
  {
   "cell_type": "code",
   "execution_count": 11,
   "metadata": {},
   "outputs": [],
   "source": [
    "model_params = {\n",
    "    'svm': {\n",
    "        'model': SVC(),\n",
    "        'params' : {\n",
    "            'C': [10,20,23,25,27,29,26,30,35,32,33],\n",
    "            'gamma':[0.51,0.52,0.55,0.57,0.61,0.63,0.65,0.71,0.81,0.91],\n",
    "            'kernel': ['rbf','linear']\n",
    "        }  \n",
    "    },\n",
    "    'random_forest': {\n",
    "        'model': RandomForestClassifier(),\n",
    "        'params' : {\n",
    "            'n_estimators': [1,5,10,15,17,19,20,22,23,25,27,30,31,33,35]\n",
    "        #'n_estimators': N_ESTIMATORS\n",
    "        }\n",
    "    },\n",
    "    'logistic_regression' : {\n",
    "        'model': LogisticRegression(solver='liblinear',multi_class='auto'),\n",
    "        'params': {\n",
    "            'C': [1,5,10]\n",
    "            #'C': LOGISTIC_C\n",
    "        }\n",
    "    },\n",
    "    \n",
    "    'Tree' : {\n",
    "        'model': tree.DecisionTreeClassifier(),\n",
    "        'params': {\n",
    "            'criterion':['gini','entropy'],\n",
    "            'max_depth':[4,5,6,7,8,9,10,11,12,15,20,30,40,50,70,90,120,150]\n",
    "            #'max_depth': TREE\n",
    "        }\n",
    "    },\n",
    "    \n",
    "}"
   ]
  },
  {
   "cell_type": "code",
   "execution_count": 12,
   "metadata": {},
   "outputs": [
    {
     "data": {
      "text/html": [
       "<div>\n",
       "<style scoped>\n",
       "    .dataframe tbody tr th:only-of-type {\n",
       "        vertical-align: middle;\n",
       "    }\n",
       "\n",
       "    .dataframe tbody tr th {\n",
       "        vertical-align: top;\n",
       "    }\n",
       "\n",
       "    .dataframe thead th {\n",
       "        text-align: right;\n",
       "    }\n",
       "</style>\n",
       "<table border=\"1\" class=\"dataframe\">\n",
       "  <thead>\n",
       "    <tr style=\"text-align: right;\">\n",
       "      <th></th>\n",
       "      <th>model</th>\n",
       "      <th>best_score</th>\n",
       "      <th>best_params</th>\n",
       "    </tr>\n",
       "  </thead>\n",
       "  <tbody>\n",
       "    <tr>\n",
       "      <th>0</th>\n",
       "      <td>svm</td>\n",
       "      <td>0.834</td>\n",
       "      <td>{'C': 35, 'gamma': 0.91, 'kernel': 'rbf'}</td>\n",
       "    </tr>\n",
       "    <tr>\n",
       "      <th>1</th>\n",
       "      <td>random_forest</td>\n",
       "      <td>0.852</td>\n",
       "      <td>{'n_estimators': 30}</td>\n",
       "    </tr>\n",
       "    <tr>\n",
       "      <th>2</th>\n",
       "      <td>logistic_regression</td>\n",
       "      <td>0.794</td>\n",
       "      <td>{'C': 10}</td>\n",
       "    </tr>\n",
       "    <tr>\n",
       "      <th>3</th>\n",
       "      <td>Tree</td>\n",
       "      <td>0.808</td>\n",
       "      <td>{'criterion': 'entropy', 'max_depth': 4}</td>\n",
       "    </tr>\n",
       "  </tbody>\n",
       "</table>\n",
       "</div>"
      ],
      "text/plain": [
       "                 model  best_score                                best_params\n",
       "0                  svm       0.834  {'C': 35, 'gamma': 0.91, 'kernel': 'rbf'}\n",
       "1        random_forest       0.852                       {'n_estimators': 30}\n",
       "2  logistic_regression       0.794                                  {'C': 10}\n",
       "3                 Tree       0.808   {'criterion': 'entropy', 'max_depth': 4}"
      ]
     },
     "execution_count": 12,
     "metadata": {},
     "output_type": "execute_result"
    }
   ],
   "source": [
    "scores = []\n",
    "\n",
    "for model_name, mp in model_params.items():\n",
    "    classifier =  GridSearchCV(mp['model'], mp['params'], cv=10, return_train_score=False)\n",
    "    classifier.fit(features,target)\n",
    "    scores.append({\n",
    "        'model': model_name,\n",
    "        'best_score': classifier.best_score_,\n",
    "        'best_params': classifier.best_params_\n",
    "    })\n",
    "df = pd.DataFrame(scores,columns=['model','best_score','best_params'])\n",
    "df"
   ]
  },
  {
   "cell_type": "markdown",
   "metadata": {},
   "source": [
    "# Learning Curve"
   ]
  },
  {
   "cell_type": "code",
   "execution_count": 13,
   "metadata": {},
   "outputs": [],
   "source": [
    "S_V_M=SVC(C=20,gamma=0.91,kernel='rbf')\n",
    "R_F=RandomForestClassifier(n_estimators= 33)\n",
    "TR=tree.DecisionTreeClassifier(criterion='entropy',max_depth= 40)"
   ]
  },
  {
   "cell_type": "code",
   "execution_count": 14,
   "metadata": {},
   "outputs": [
    {
     "name": "stdout",
     "output_type": "stream",
     "text": [
      "[learning_curve] Training set sizes: [ 45  53  61  69  78  86  94 102 111 119 127 135 144 152 160 168 177 185\n",
      " 193 202 210 218 226 235 243 251 259 268 276 284 292 301 309 317 326 334\n",
      " 342 350 359 367 375 383 392 400 408 416 425 433 441 450]\n"
     ]
    },
    {
     "name": "stderr",
     "output_type": "stream",
     "text": [
      "[Parallel(n_jobs=-1)]: Using backend LokyBackend with 4 concurrent workers.\n",
      "[Parallel(n_jobs=-1)]: Done 500 out of 500 | elapsed:    8.3s finished\n"
     ]
    },
    {
     "data": {
      "text/plain": [
       "<matplotlib.legend.Legend at 0x253f1def430>"
      ]
     },
     "execution_count": 14,
     "metadata": {},
     "output_type": "execute_result"
    },
    {
     "data": {
      "image/png": "[encoded data removed]",
      "text/plain": [
       "<Figure size 432x288 with 1 Axes>"
      ]
     },
     "metadata": {
      "needs_background": "light"
     },
     "output_type": "display_data"
    }
   ],
   "source": [
    "train_sizes,train_scores,test_scores=learning_curve(S_V_M,features,target,cv=10,scoring='accuracy',n_jobs=-1,train_sizes=np.linspace(0.1,1.0,50),verbose=1)\n",
    "train_mean=np.mean(train_scores,axis=1)\n",
    "train_std=np.std(train_scores,axis=1)\n",
    "test_mean=np.mean(test_scores,axis=1)\n",
    "test_std=np.std(test_scores,axis=1)\n",
    "plt.plot(train_sizes,train_mean)\n",
    "plt.plot(train_sizes,test_mean)\n",
    "plt.title('Learning Accuracy')\n",
    "plt.xlabel('Training Size')\n",
    "plt.ylabel('Accuracy score')\n",
    "\n",
    "plt.plot(train_sizes,train_mean,label='Training Score')\n",
    "plt.plot(train_sizes,test_mean,label='Test Score')\n",
    "plt.legend(loc='best')"
   ]
  },
  {
   "cell_type": "code",
   "execution_count": 15,
   "metadata": {},
   "outputs": [
    {
     "name": "stdout",
     "output_type": "stream",
     "text": [
      "[learning_curve] Training set sizes: [ 45  58  72  86 100 114 128 142 156 170 184 198 212 226 240 254 268 282\n",
      " 296 310 324 338 352 366 380 394 408 422 436 450]\n"
     ]
    },
    {
     "name": "stderr",
     "output_type": "stream",
     "text": [
      "[Parallel(n_jobs=-1)]: Using backend LokyBackend with 4 concurrent workers.\n",
      "[Parallel(n_jobs=-1)]: Done 300 out of 300 | elapsed:   15.2s finished\n"
     ]
    },
    {
     "data": {
      "text/plain": [
       "<matplotlib.legend.Legend at 0x253f1e5a3a0>"
      ]
     },
     "execution_count": 15,
     "metadata": {},
     "output_type": "execute_result"
    },
    {
     "data": {
      "image/png": "[encoded data removed]",
      "text/plain": [
       "<Figure size 432x288 with 1 Axes>"
      ]
     },
     "metadata": {
      "needs_background": "light"
     },
     "output_type": "display_data"
    }
   ],
   "source": [
    "train_sizes,train_scores,test_scores=learning_curve(R_F,features,target,cv=10,scoring='accuracy',n_jobs=-1,train_sizes=np.linspace(0.1,1.0,30),verbose=1)\n",
    "train_mean=np.mean(train_scores,axis=1)\n",
    "train_std=np.std(train_scores,axis=1)\n",
    "test_mean=np.mean(test_scores,axis=1)\n",
    "test_std=np.std(test_scores,axis=1)\n",
    "plt.plot(train_sizes,train_mean)\n",
    "plt.plot(train_sizes,test_mean)\n",
    "plt.title('Learning Accuracy')\n",
    "plt.xlabel('Training Size')\n",
    "plt.ylabel('Accuracy score')\n",
    "\n",
    "plt.plot(train_sizes,train_mean,label='Training Score')\n",
    "plt.plot(train_sizes,test_mean,label='Test Score')\n",
    "plt.legend(loc='best')"
   ]
  },
  {
   "cell_type": "code",
   "execution_count": 16,
   "metadata": {},
   "outputs": [
    {
     "name": "stdout",
     "output_type": "stream",
     "text": [
      "[learning_curve] Training set sizes: [ 45  58  72  86 100 114 128 142 156 170 184 198 212 226 240 254 268 282\n",
      " 296 310 324 338 352 366 380 394 408 422 436 450]\n"
     ]
    },
    {
     "name": "stderr",
     "output_type": "stream",
     "text": [
      "[Parallel(n_jobs=-1)]: Using backend LokyBackend with 4 concurrent workers.\n",
      "[Parallel(n_jobs=-1)]: Done 300 out of 300 | elapsed:    1.8s finished\n"
     ]
    },
    {
     "data": {
      "text/plain": [
       "<matplotlib.legend.Legend at 0x253f1ff26a0>"
      ]
     },
     "execution_count": 16,
     "metadata": {},
     "output_type": "execute_result"
    },
    {
     "data": {
      "image/png": "[encoded data removed]",
      "text/plain": [
       "<Figure size 432x288 with 1 Axes>"
      ]
     },
     "metadata": {
      "needs_background": "light"
     },
     "output_type": "display_data"
    }
   ],
   "source": [
    "train_sizes,train_scores,test_scores=learning_curve(TR,features,target,cv=10,scoring='accuracy',n_jobs=-1,train_sizes=np.linspace(0.1,1.0,30),verbose=1)\n",
    "train_mean=np.mean(train_scores,axis=1)\n",
    "train_std=np.std(train_scores,axis=1)\n",
    "test_mean=np.mean(test_scores,axis=1)\n",
    "test_std=np.std(test_scores,axis=1)\n",
    "plt.plot(train_sizes,train_mean)\n",
    "plt.plot(train_sizes,test_mean)\n",
    "plt.title('Learning Accuracy')\n",
    "plt.xlabel('Training Size')\n",
    "plt.ylabel('Accuracy score')\n",
    "\n",
    "plt.plot(train_sizes,train_mean,label='Training Score')\n",
    "plt.plot(train_sizes,test_mean,label='Test Score')\n",
    "plt.legend(loc='best')"
   ]
  },
  {
   "cell_type": "markdown",
   "metadata": {},
   "source": [
    "# Confussion Matrix"
   ]
  },
  {
   "cell_type": "code",
   "execution_count": 17,
   "metadata": {},
   "outputs": [],
   "source": [
    "from sklearn.model_selection import cross_val_predict\n",
    "from sklearn.metrics import confusion_matrix\n",
    "import seaborn as sn\n",
    "SVM_y_pred = cross_val_predict(S_V_M, features, target, cv=10)\n",
    "RF_y_pred = cross_val_predict(R_F, features, target, cv=10)\n",
    "TR_y_pred = cross_val_predict(TR, features, target, cv=10)\n",
    "SVM_conf_mat = confusion_matrix(target, SVM_y_pred)\n",
    "RF_conf_mat = confusion_matrix(target, RF_y_pred)\n",
    "TR_conf_mat = confusion_matrix(target, TR_y_pred)"
   ]
  },
  {
   "cell_type": "code",
   "execution_count": 18,
   "metadata": {},
   "outputs": [
    {
     "data": {
      "text/plain": [
       "Text(69.0, 0.5, 'Actual')"
      ]
     },
     "execution_count": 18,
     "metadata": {},
     "output_type": "execute_result"
    },
    {
     "data": {
      "image/png": "[encoded data removed]",
      "text/plain": [
       "<Figure size 720x504 with 2 Axes>"
      ]
     },
     "metadata": {
      "needs_background": "light"
     },
     "output_type": "display_data"
    }
   ],
   "source": [
    "plt.figure(figsize=(10,7))\n",
    "sn.heatmap(SVM_conf_mat, annot=True,fmt='d')\n",
    "plt.xlabel('Predicted')\n",
    "plt.ylabel('Actual')"
   ]
  },
  {
   "cell_type": "code",
   "execution_count": 19,
   "metadata": {},
   "outputs": [
    {
     "data": {
      "text/plain": [
       "Text(69.0, 0.5, 'Actual')"
      ]
     },
     "execution_count": 19,
     "metadata": {},
     "output_type": "execute_result"
    },
    {
     "data": {
      "image/png": "[encoded data removed]",
      "text/plain": [
       "<Figure size 720x504 with 2 Axes>"
      ]
     },
     "metadata": {
      "needs_background": "light"
     },
     "output_type": "display_data"
    }
   ],
   "source": [
    "plt.figure(figsize=(10,7))\n",
    "sn.heatmap(RF_conf_mat, annot=True,fmt='d')\n",
    "plt.xlabel('Predicted')\n",
    "plt.ylabel('Actual')"
   ]
  },
  {
   "cell_type": "code",
   "execution_count": 20,
   "metadata": {},
   "outputs": [
    {
     "data": {
      "text/plain": [
       "Text(69.0, 0.5, 'Actual')"
      ]
     },
     "execution_count": 20,
     "metadata": {},
     "output_type": "execute_result"
    },
    {
     "data": {
      "image/png": "[encoded data removed]",
      "text/plain": [
       "<Figure size 720x504 with 2 Axes>"
      ]
     },
     "metadata": {
      "needs_background": "light"
     },
     "output_type": "display_data"
    }
   ],
   "source": [
    "plt.figure(figsize=(10,7))\n",
    "sn.heatmap(TR_conf_mat, annot=True,fmt='d')\n",
    "plt.xlabel('Predicted')\n",
    "plt.ylabel('Actual')"
   ]
  },
  {
   "cell_type": "markdown",
   "metadata": {},
   "source": [
    "# Classification Report"
   ]
  },
  {
   "cell_type": "code",
   "execution_count": 21,
   "metadata": {},
   "outputs": [],
   "source": [
    "from sklearn.metrics import classification_report"
   ]
  },
  {
   "cell_type": "code",
   "execution_count": 22,
   "metadata": {},
   "outputs": [
    {
     "name": "stdout",
     "output_type": "stream",
     "text": [
      "SVM REPORT\n",
      "              precision    recall  f1-score   support\n",
      "\n",
      "           0       0.78      0.90      0.84       250\n",
      "           1       0.89      0.75      0.81       250\n",
      "\n",
      "    accuracy                           0.83       500\n",
      "   macro avg       0.84      0.83      0.83       500\n",
      "weighted avg       0.84      0.83      0.83       500\n",
      "\n",
      "Random REPORT\n",
      "              precision    recall  f1-score   support\n",
      "\n",
      "           0       0.84      0.85      0.85       250\n",
      "           1       0.85      0.84      0.85       250\n",
      "\n",
      "    accuracy                           0.85       500\n",
      "   macro avg       0.85      0.85      0.85       500\n",
      "weighted avg       0.85      0.85      0.85       500\n",
      "\n",
      "Tree REPORT\n",
      "              precision    recall  f1-score   support\n",
      "\n",
      "           0       0.76      0.82      0.79       250\n",
      "           1       0.81      0.75      0.78       250\n",
      "\n",
      "    accuracy                           0.78       500\n",
      "   macro avg       0.79      0.78      0.78       500\n",
      "weighted avg       0.79      0.78      0.78       500\n",
      "\n"
     ]
    }
   ],
   "source": [
    "print(\"SVM REPORT\")\n",
    "print(classification_report(target,SVM_y_pred))\n",
    "print(\"Random REPORT\")\n",
    "print(classification_report(target,RF_y_pred))\n",
    "print(\"Tree REPORT\")\n",
    "print(classification_report(target,TR_y_pred))"
   ]
  },
  {
   "cell_type": "markdown",
   "metadata": {},
   "source": [
    "# ROC and AUC Curve"
   ]
  },
  {
   "cell_type": "code",
   "execution_count": 23,
   "metadata": {},
   "outputs": [],
   "source": [
    "from sklearn.model_selection import train_test_split\n",
    "X_train, X_test, Y_train, Y_test = train_test_split(features, target, test_size = 0.30, random_state = 4)"
   ]
  },
  {
   "cell_type": "code",
   "execution_count": 24,
   "metadata": {},
   "outputs": [],
   "source": [
    "S_V_M.fit(X_train, Y_train)\n",
    "R_F.fit(X_train, Y_train)\n",
    "TR.fit(X_train, Y_train)\n",
    "y_pred_svm = S_V_M.predict(X_test)\n",
    "y_pred_rf = R_F.predict(X_test)\n",
    "y_pred_tr = TR.predict(X_test)"
   ]
  },
  {
   "cell_type": "code",
   "execution_count": 25,
   "metadata": {},
   "outputs": [
    {
     "data": {
      "image/png": "[encoded data removed]",
      "text/plain": [
       "<Figure size 500x500 with 1 Axes>"
      ]
     },
     "metadata": {
      "needs_background": "light"
     },
     "output_type": "display_data"
    }
   ],
   "source": [
    "from sklearn.metrics import roc_curve, auc\n",
    "\n",
    "#logistic_fpr, logistic_tpr, threshold = roc_curve(y_test, y_pred_logistic)\n",
    "#auc_logistic = auc(logistic_fpr, logistic_tpr)\n",
    "\n",
    "\n",
    "#for train test split\n",
    "#svm_fpr, svm_tpr, threshold_svm = roc_curve(Y_test, y_pred_svm)\n",
    "#auc_svm = auc(svm_fpr, svm_tpr)\n",
    "#for All\n",
    "svm_fpr, svm_tpr, threshold_svm = roc_curve(target, SVM_y_pred)\n",
    "auc_svm = auc(svm_fpr, svm_tpr)\n",
    "\n",
    "#for train test split\n",
    "#rf_fpr, rf_tpr, threshold_rf = roc_curve(Y_test, y_pred_rf)\n",
    "#auc_rf = auc(rf_fpr, rf_tpr)\n",
    "\n",
    "#for All\n",
    "rf_fpr, rf_tpr, threshold_rf = roc_curve(target, RF_y_pred )\n",
    "auc_rf = auc(rf_fpr, rf_tpr)\n",
    "\n",
    "#for train test split\n",
    "#tr_fpr, tr_tpr, threshold_tr = roc_curve(Y_test, y_pred_tr)\n",
    "#auc_tr = auc(tr_fpr, tr_tpr)\n",
    "\n",
    "#for All\n",
    "tr_fpr, tr_tpr, threshold_tr = roc_curve(target, TR_y_pred)\n",
    "auc_tr = auc(tr_fpr, tr_tpr)\n",
    "\n",
    "\n",
    "\n",
    "plt.figure(figsize=(5, 5), dpi=100)\n",
    "\n",
    "\n",
    "plt.plot(svm_fpr, svm_tpr, linestyle='-', label='SVM (auc = %0.3f)' % auc_svm)\n",
    "#plt.plot(logistic_fpr, logistic_tpr, marker='.', label='Logistic (auc = %0.3f)' % auc_logistic)\n",
    "plt.plot(rf_fpr, rf_tpr, linestyle='-', label='Random Forest (auc = %0.3f)' % auc_rf)\n",
    "plt.plot(tr_fpr, tr_tpr, linestyle='-', label='Decision Tree (auc = %0.3f)' % auc_tr)\n",
    "\n",
    "\n",
    "plt.xlabel('False Positive Rate -->')\n",
    "plt.ylabel('True Positive Rate -->')\n",
    "\n",
    "plt.legend()\n",
    "\n",
    "plt.show()"
   ]
  }
 ],
 "metadata": {
  "kernelspec": {
   "display_name": "Python 3",
   "language": "python",
   "name": "python3"
  },
  "language_info": {
   "codemirror_mode": {
    "name": "ipython",
    "version": 3
   },
   "file_extension": ".py",
   "mimetype": "text/x-python",
   "name": "python",
   "nbconvert_exporter": "python",
   "pygments_lexer": "ipython3",
   "version": "3.8.5"
  }
 },
 "nbformat": 4,
 "nbformat_minor": 4
}
