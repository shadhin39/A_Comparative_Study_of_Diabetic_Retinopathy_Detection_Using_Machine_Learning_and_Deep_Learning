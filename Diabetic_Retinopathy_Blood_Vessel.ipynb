{
 "cells": [
  {
   "cell_type": "code",
   "execution_count": 1,
   "metadata": {},
   "outputs": [],
   "source": [
    "import cv2\n",
    "import numpy as np"
   ]
  },
  {
   "cell_type": "code",
   "execution_count": 2,
   "metadata": {},
   "outputs": [
    {
     "name": "stdout",
     "output_type": "stream",
     "text": [
      "(1488, 2240, 3)\n"
     ]
    }
   ],
   "source": [
    "img=cv2.imread('Base11\\image 10.tif',cv2.IMREAD_UNCHANGED)\n",
    "print(img.shape)"
   ]
  },
  {
   "cell_type": "code",
   "execution_count": 3,
   "metadata": {},
   "outputs": [],
   "source": [
    "img=cv2.imread('Base11\\image 10.tif',cv2.IMREAD_UNCHANGED)\n",
    "\n",
    "cv2.imshow('image', img)  \n",
    "\n",
    "cv2.waitKey(0)          \n",
    "cv2.destroyAllWindows()"
   ]
  },
  {
   "cell_type": "code",
   "execution_count": 4,
   "metadata": {},
   "outputs": [],
   "source": [
    "blue_channel = img[:,:,0]\n",
    "red_channel = img[:,:,2]\n",
    "\n",
    "green_channel = img[:,:,1]\n",
    "#mag_channel=blue_channel+red_channel\n",
    "mag_channel1=1-green_channel\n",
    "  \n",
    "\n",
    "mag_channel1=cv2.resize(mag_channel1,(500,500))\n",
    "\n",
    "#mag_channel=cv2.resize(mag_channel,(500,500))\n",
    "#cv2.imshow('image', mag_channel)\n",
    "cv2.imshow('image', mag_channel1)\n",
    "cv2.waitKey(0)          \n",
    "cv2.destroyAllWindows()"
   ]
  },
  {
   "cell_type": "code",
   "execution_count": 5,
   "metadata": {},
   "outputs": [],
   "source": [
    "kernel = np.ones((5,5),np.uint8)\n",
    "\n",
    "\n",
    "erosion = cv2.erode(mag_channel1,kernel,iterations = 1)\n",
    "erosion=cv2.resize(erosion,(500,500))\n",
    "\n",
    "\n",
    "\n",
    "\n",
    "opening = cv2.morphologyEx(erosion, cv2.MORPH_OPEN, kernel)\n",
    "opening=cv2.resize(opening,(500,500))\n",
    "\n",
    "dilation = cv2.dilate(opening,kernel,iterations = 1)\n",
    "dilation=cv2.resize(dilation,(500,500))\n",
    "\n",
    "\n",
    "\n",
    "#cv2.imwrite('E:/cv2-green-channel1.png',dilation)\n",
    "\n",
    "cv2.imshow('dl',dilation)\n",
    "cv2.imshow('er',erosion)\n",
    "cv2.imshow('op',opening)\n",
    "cv2.imshow('mag',mag_channel1)\n",
    "\n",
    "\n",
    "cv2.waitKey(0)\n",
    "cv2.destroyAllWindows()"
   ]
  },
  {
   "cell_type": "code",
   "execution_count": 47,
   "metadata": {},
   "outputs": [],
   "source": [
    "from PIL import Image, ImageChops"
   ]
  },
  {
   "cell_type": "code",
   "execution_count": 6,
   "metadata": {},
   "outputs": [],
   "source": [
    "difference=cv2.subtract(mag_channel1,dilation)\n",
    "cv2.imshow('Diffrence',difference)\n",
    "cv2.waitKey(0)\n",
    "cv2.destroyAllWindows()"
   ]
  },
  {
   "cell_type": "code",
   "execution_count": 7,
   "metadata": {},
   "outputs": [],
   "source": [
    "ret,th=cv2.threshold(difference,9,255,cv2.THRESH_BINARY)\n",
    "ret,th1=cv2.threshold(difference,9,255,cv2.THRESH_OTSU)\n",
    "cv2.imshow('Extracted Blood Vessels',th)\n",
    "\n",
    "cv2.imshow('threshold1',th1)\n",
    "\n",
    "cv2.waitKey(0)\n",
    "cv2.destroyAllWindows()"
   ]
  },
  {
   "cell_type": "code",
   "execution_count": 10,
   "metadata": {},
   "outputs": [],
   "source": [
    "avg=cv2.blur(th,(5,5))\n",
    "cv2.imshow('Blur',avg)\n",
    "\n",
    "gaussian=cv2.GaussianBlur(th,(5,5),0)\n",
    "\n",
    "cv2.imshow('gausianBlur',gaussian)\n",
    "\n",
    "median=cv2.medianBlur(th,5)\n",
    "cv2.imshow('Median',median)\n",
    "cv2.waitKey(0)\n",
    "cv2.destroyAllWindows()"
   ]
  },
  {
   "cell_type": "code",
   "execution_count": null,
   "metadata": {},
   "outputs": [],
   "source": []
  },
  {
   "cell_type": "code",
   "execution_count": null,
   "metadata": {},
   "outputs": [],
   "source": []
  }
 ],
 "metadata": {
  "kernelspec": {
   "display_name": "Python 3",
   "language": "python",
   "name": "python3"
  },
  "language_info": {
   "codemirror_mode": {
    "name": "ipython",
    "version": 3
   },
   "file_extension": ".py",
   "mimetype": "text/x-python",
   "name": "python",
   "nbconvert_exporter": "python",
   "pygments_lexer": "ipython3",
   "version": "3.8.5"
  }
 },
 "nbformat": 4,
 "nbformat_minor": 4
}
