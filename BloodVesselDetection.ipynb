{
 "cells": [
  {
   "cell_type": "code",
   "execution_count": 18,
   "metadata": {},
   "outputs": [],
   "source": [
    "import cv2\n",
    "import numpy as np\n",
    "import glob\n",
    "from skimage import io\n",
    "from matplotlib import pyplot as plt"
   ]
  },
  {
   "cell_type": "code",
   "execution_count": 20,
   "metadata": {},
   "outputs": [],
   "source": [
    "path=glob.glob(\"Modified Base\\*.tif\")\n",
    "for i in path:\n",
    "    \n",
    "    original = cv2.imread(i)\n",
    "    \n",
    "    img=cv2.resize(original,(800,800))\n",
    "    green_channel = img[:,:,1]\n",
    "    green_channel=cv2.resize(green_channel,(800,800))\n",
    "    clahe = cv2.createCLAHE(clipLimit=2.0, tileGridSize=(8,8))\n",
    "    cl1 = clahe.apply(green_channel)\n",
    "    kernel = np.ones((5,5),np.uint8)\n",
    "    opening = cv2.morphologyEx(cl1, cv2.MORPH_OPEN, kernel)\n",
    "    opening=cv2.resize(opening,(800,800))\n",
    "    median=cv2.medianBlur(opening,43)\n",
    "    Final_difference=cv2.subtract(median,opening)\n",
    "    ret,th=cv2.threshold(Final_difference,15,255,cv2.THRESH_BINARY)\n",
    "    see=cv2.medianBlur(th,3)\n",
    "    gaussian=cv2.GaussianBlur(see,(3,3),0)\n",
    "    output=\"FinalbloodVessels\"+\"\\\\\"+i\n",
    "    cv2.imwrite(output,see)\n",
    "    \n",
    "    cv2.waitKey(0) \n",
    "    "
   ]
  },
  {
   "cell_type": "code",
   "execution_count": null,
   "metadata": {},
   "outputs": [],
   "source": []
  }
 ],
 "metadata": {
  "kernelspec": {
   "display_name": "Python 3",
   "language": "python",
   "name": "python3"
  },
  "language_info": {
   "codemirror_mode": {
    "name": "ipython",
    "version": 3
   },
   "file_extension": ".py",
   "mimetype": "text/x-python",
   "name": "python",
   "nbconvert_exporter": "python",
   "pygments_lexer": "ipython3",
   "version": "3.8.5"
  }
 },
 "nbformat": 4,
 "nbformat_minor": 4
}
