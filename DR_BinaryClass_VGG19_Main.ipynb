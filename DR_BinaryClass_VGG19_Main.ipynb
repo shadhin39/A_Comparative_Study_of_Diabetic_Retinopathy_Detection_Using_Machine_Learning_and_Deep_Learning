{
  "nbformat": 4,
  "nbformat_minor": 0,
  "metadata": {
    "colab": {
      "name": "DR_BinaryClass_VGG19_Main.ipynb",
      "provenance": [],
      "collapsed_sections": []
    },
    "kernelspec": {
      "name": "python3",
      "display_name": "Python 3"
    },
    "language_info": {
      "name": "python"
    },
    "accelerator": "GPU"
  },
  "cells": [
    {
      "cell_type": "code",
      "metadata": {
        "id": "7drAHbEXvxBl"
      },
      "source": [
        "import tensorflow as tf\n",
        "import keras\n",
        "METRICS = [\n",
        "      tf.keras.metrics.BinaryAccuracy(name='accuracy'),\n",
        "      tf.keras.metrics.Precision(name='precision'),\n",
        "      tf.keras.metrics.Recall(name='recall'),  \n",
        "      tf.keras.metrics.AUC(name='auc'),\n",
        "]"
      ],
      "execution_count": null,
      "outputs": []
    },
    {
      "cell_type": "code",
      "metadata": {
        "id": "ZngTahQ1vz6D"
      },
      "source": [
        "import os\n",
        "from tensorflow.keras.preprocessing.image import ImageDataGenerator, array_to_img, img_to_array, load_img\n",
        "from tensorflow.keras.models import Sequential\n",
        "from tensorflow.keras.layers import Flatten\n",
        "from tensorflow.keras.layers import Dense\n",
        "from tensorflow.keras.layers import Dropout\n",
        "from tensorflow.keras import optimizers\n",
        "from tensorflow.keras import backend as K\n",
        "from tensorflow.keras.models import load_model\n",
        "from tensorflow.keras.callbacks import ModelCheckpoint\n",
        "import numpy as np\n",
        "import PIL\n",
        "import matplotlib.pyplot as plt\n",
        "import json\n",
        "from IPython.display import Image as disp_image \n",
        "from sklearn.metrics import confusion_matrix, classification_report, accuracy_score\n",
        "import seaborn as sns\n",
        "import matplotlib.pyplot as plt"
      ],
      "execution_count": null,
      "outputs": []
    },
    {
      "cell_type": "code",
      "source": [
        "train_data_dir = '/content/drive/My Drive/DR_Messidor_Dataset'\n",
        "img_height = 256\n",
        "img_width = 256\n",
        "batch_size = 32\n",
        "channels = 3"
      ],
      "metadata": {
        "id": "MTJ2NqD3m_c5"
      },
      "execution_count": null,
      "outputs": []
    },
    {
      "cell_type": "code",
      "source": [
        "from keras.preprocessing.image import ImageDataGenerator\n",
        "train_datagen = ImageDataGenerator(rescale=1./255,\n",
        "    shear_range=0.2,\n",
        "    zoom_range=0.2,\n",
        "    horizontal_flip=True,\n",
        "    validation_split=0.2) # set validation split\n",
        "\n",
        "train_generator = train_datagen.flow_from_directory(\n",
        "    train_data_dir,\n",
        "    target_size=(img_height, img_width),\n",
        "    batch_size=batch_size,\n",
        "    class_mode='binary',\n",
        "    subset='training') # set as training data\n",
        "\n",
        "validation_generator = train_datagen.flow_from_directory(\n",
        "    train_data_dir, # same directory as training data\n",
        "    target_size=(img_height, img_width),\n",
        "    batch_size=batch_size,\n",
        "    class_mode='binary',\n",
        "    subset='validation') # set as validation data"
      ],
      "metadata": {
        "colab": {
          "base_uri": "https://localhost:8080/"
        },
        "id": "RM721L52nAqq",
        "outputId": "628ec8c3-fe52-4afe-8771-54b1b89810e0"
      },
      "execution_count": null,
      "outputs": [
        {
          "output_type": "stream",
          "name": "stdout",
          "text": [
            "Found 309 images belonging to 2 classes.\n",
            "Found 77 images belonging to 2 classes.\n"
          ]
        }
      ]
    },
    {
      "cell_type": "code",
      "metadata": {
        "colab": {
          "base_uri": "https://localhost:8080/"
        },
        "id": "OaCQIuxrv5In",
        "outputId": "f2ca09bb-4421-42d2-e003-f66b2bf80f70"
      },
      "source": [
        "model = tf.keras.applications.VGG19(weights = \"imagenet\", include_top=False, \n",
        "input_shape = (img_width, img_height, channels))"
      ],
      "execution_count": null,
      "outputs": [
        {
          "output_type": "stream",
          "name": "stdout",
          "text": [
            "Downloading data from https://storage.googleapis.com/tensorflow/keras-applications/vgg19/vgg19_weights_tf_dim_ordering_tf_kernels_notop.h5\n",
            "80142336/80134624 [==============================] - 1s 0us/step\n",
            "80150528/80134624 [==============================] - 1s 0us/step\n"
          ]
        }
      ]
    },
    {
      "cell_type": "code",
      "metadata": {
        "colab": {
          "base_uri": "https://localhost:8080/"
        },
        "id": "6nUHLw0YwiaI",
        "outputId": "26d562c7-d2de-4bb3-f9ae-61ae2fba338c"
      },
      "source": [
        "for layer in model.layers[:-5]:\n",
        "    layer.trainable = False\n",
        "\n",
        "top_model = Sequential()\n",
        "top_model.add(model)\n",
        "top_model.add(Flatten())\n",
        "top_model.add(Dense(256, activation='relu'))\n",
        "top_model.add(Dropout(0.5))\n",
        "top_model.add(Dense(1, activation='sigmoid'))\n",
        "\n",
        "print(model.summary())\n",
        "print(top_model.summary())"
      ],
      "execution_count": null,
      "outputs": [
        {
          "output_type": "stream",
          "name": "stdout",
          "text": [
            "Model: \"vgg19\"\n",
            "_________________________________________________________________\n",
            " Layer (type)                Output Shape              Param #   \n",
            "=================================================================\n",
            " input_1 (InputLayer)        [(None, 256, 256, 3)]     0         \n",
            "                                                                 \n",
            " block1_conv1 (Conv2D)       (None, 256, 256, 64)      1792      \n",
            "                                                                 \n",
            " block1_conv2 (Conv2D)       (None, 256, 256, 64)      36928     \n",
            "                                                                 \n",
            " block1_pool (MaxPooling2D)  (None, 128, 128, 64)      0         \n",
            "                                                                 \n",
            " block2_conv1 (Conv2D)       (None, 128, 128, 128)     73856     \n",
            "                                                                 \n",
            " block2_conv2 (Conv2D)       (None, 128, 128, 128)     147584    \n",
            "                                                                 \n",
            " block2_pool (MaxPooling2D)  (None, 64, 64, 128)       0         \n",
            "                                                                 \n",
            " block3_conv1 (Conv2D)       (None, 64, 64, 256)       295168    \n",
            "                                                                 \n",
            " block3_conv2 (Conv2D)       (None, 64, 64, 256)       590080    \n",
            "                                                                 \n",
            " block3_conv3 (Conv2D)       (None, 64, 64, 256)       590080    \n",
            "                                                                 \n",
            " block3_conv4 (Conv2D)       (None, 64, 64, 256)       590080    \n",
            "                                                                 \n",
            " block3_pool (MaxPooling2D)  (None, 32, 32, 256)       0         \n",
            "                                                                 \n",
            " block4_conv1 (Conv2D)       (None, 32, 32, 512)       1180160   \n",
            "                                                                 \n",
            " block4_conv2 (Conv2D)       (None, 32, 32, 512)       2359808   \n",
            "                                                                 \n",
            " block4_conv3 (Conv2D)       (None, 32, 32, 512)       2359808   \n",
            "                                                                 \n",
            " block4_conv4 (Conv2D)       (None, 32, 32, 512)       2359808   \n",
            "                                                                 \n",
            " block4_pool (MaxPooling2D)  (None, 16, 16, 512)       0         \n",
            "                                                                 \n",
            " block5_conv1 (Conv2D)       (None, 16, 16, 512)       2359808   \n",
            "                                                                 \n",
            " block5_conv2 (Conv2D)       (None, 16, 16, 512)       2359808   \n",
            "                                                                 \n",
            " block5_conv3 (Conv2D)       (None, 16, 16, 512)       2359808   \n",
            "                                                                 \n",
            " block5_conv4 (Conv2D)       (None, 16, 16, 512)       2359808   \n",
            "                                                                 \n",
            " block5_pool (MaxPooling2D)  (None, 8, 8, 512)         0         \n",
            "                                                                 \n",
            "=================================================================\n",
            "Total params: 20,024,384\n",
            "Trainable params: 9,439,232\n",
            "Non-trainable params: 10,585,152\n",
            "_________________________________________________________________\n",
            "None\n",
            "Model: \"sequential\"\n",
            "_________________________________________________________________\n",
            " Layer (type)                Output Shape              Param #   \n",
            "=================================================================\n",
            " vgg19 (Functional)          (None, 8, 8, 512)         20024384  \n",
            "                                                                 \n",
            " flatten (Flatten)           (None, 32768)             0         \n",
            "                                                                 \n",
            " dense (Dense)               (None, 256)               8388864   \n",
            "                                                                 \n",
            " dropout (Dropout)           (None, 256)               0         \n",
            "                                                                 \n",
            " dense_1 (Dense)             (None, 1)                 257       \n",
            "                                                                 \n",
            "=================================================================\n",
            "Total params: 28,413,505\n",
            "Trainable params: 17,828,353\n",
            "Non-trainable params: 10,585,152\n",
            "_________________________________________________________________\n",
            "None\n"
          ]
        }
      ]
    },
    {
      "cell_type": "code",
      "metadata": {
        "colab": {
          "base_uri": "https://localhost:8080/"
        },
        "id": "wlmQSIXWUfcb",
        "outputId": "1a023f99-cf64-4a76-d7ad-4ad96896366f"
      },
      "source": [
        "top_model.compile(loss='binary_crossentropy',\n",
        "                  optimizer=optimizers.RMSprop(learning_rate=1e-4, decay=1e-6),\n",
        "                  metrics=METRICS)\n",
        "\n",
        "history = top_model.fit(\n",
        "          train_generator,\n",
        "          steps_per_epoch=train_generator.n // batch_size,\n",
        "          epochs=18,\n",
        "          validation_data=validation_generator,\n",
        "          validation_steps=validation_generator.n // batch_size)"
      ],
      "execution_count": null,
      "outputs": [
        {
          "output_type": "stream",
          "name": "stdout",
          "text": [
            "Epoch 1/18\n",
            " 52/180 [=======>......................] - ETA: 44:20 - loss: 0.3290 - accuracy: 0.8353 - precision: 0.8579 - recall: 0.8262 - auc: 0.9058"
          ]
        },
        {
          "output_type": "stream",
          "name": "stderr",
          "text": [
            "/usr/local/lib/python3.7/dist-packages/PIL/Image.py:960: UserWarning: Palette images with Transparency expressed in bytes should be converted to RGBA images\n",
            "  \"Palette images with Transparency expressed in bytes should be \"\n"
          ]
        },
        {
          "output_type": "stream",
          "name": "stdout",
          "text": [
            "180/180 [==============================] - 4679s 26s/step - loss: 0.1712 - accuracy: 0.9253 - precision: 0.9391 - recall: 0.9180 - auc: 0.9735 - val_loss: 0.0584 - val_accuracy: 0.9785 - val_precision: 0.9854 - val_recall: 0.9738 - val_auc: 0.9976\n",
            "Epoch 2/18\n",
            "180/180 [==============================] - 165s 914ms/step - loss: 0.0884 - accuracy: 0.9816 - precision: 0.9864 - recall: 0.9787 - auc: 0.9950 - val_loss: 0.0656 - val_accuracy: 0.9764 - val_precision: 0.9740 - val_recall: 0.9816 - val_auc: 0.9964\n",
            "Epoch 3/18\n",
            "180/180 [==============================] - 165s 918ms/step - loss: 0.0471 - accuracy: 0.9870 - precision: 0.9891 - recall: 0.9862 - auc: 0.9980 - val_loss: 0.0598 - val_accuracy: 0.9792 - val_precision: 0.9804 - val_recall: 0.9804 - val_auc: 0.9975\n",
            "Epoch 4/18\n",
            "180/180 [==============================] - 166s 921ms/step - loss: 0.0444 - accuracy: 0.9877 - precision: 0.9898 - recall: 0.9869 - auc: 0.9976 - val_loss: 0.0341 - val_accuracy: 0.9903 - val_precision: 0.9883 - val_recall: 0.9934 - val_auc: 0.9987\n",
            "Epoch 5/18\n",
            "180/180 [==============================] - 165s 917ms/step - loss: 0.0493 - accuracy: 0.9906 - precision: 0.9934 - recall: 0.9888 - auc: 0.9975 - val_loss: 0.0549 - val_accuracy: 0.9861 - val_precision: 0.9843 - val_recall: 0.9895 - val_auc: 0.9967\n",
            "Epoch 6/18\n",
            "180/180 [==============================] - 166s 921ms/step - loss: 0.0580 - accuracy: 0.9927 - precision: 0.9931 - recall: 0.9931 - auc: 0.9985 - val_loss: 0.1190 - val_accuracy: 0.9840 - val_precision: 0.9780 - val_recall: 0.9921 - val_auc: 0.9932\n",
            "Epoch 7/18\n",
            "180/180 [==============================] - 168s 932ms/step - loss: 0.0851 - accuracy: 0.9950 - precision: 0.9957 - recall: 0.9947 - auc: 0.9981 - val_loss: 0.0947 - val_accuracy: 0.9875 - val_precision: 0.9921 - val_recall: 0.9843 - val_auc: 0.9982\n",
            "Epoch 8/18\n",
            "180/180 [==============================] - 166s 924ms/step - loss: 0.0619 - accuracy: 0.9904 - precision: 0.9924 - recall: 0.9895 - auc: 0.9969 - val_loss: 0.0627 - val_accuracy: 0.9944 - val_precision: 0.9961 - val_recall: 0.9934 - val_auc: 0.9964\n",
            "Epoch 9/18\n",
            "180/180 [==============================] - 166s 924ms/step - loss: 0.0593 - accuracy: 0.9910 - precision: 0.9924 - recall: 0.9905 - auc: 0.9966 - val_loss: 0.0718 - val_accuracy: 0.9875 - val_precision: 0.9921 - val_recall: 0.9843 - val_auc: 0.9974\n",
            "Epoch 10/18\n",
            "180/180 [==============================] - 167s 927ms/step - loss: 0.0466 - accuracy: 0.9948 - precision: 0.9954 - recall: 0.9948 - auc: 0.9973 - val_loss: 0.1025 - val_accuracy: 0.9924 - val_precision: 0.9934 - val_recall: 0.9921 - val_auc: 0.9956\n",
            "Epoch 11/18\n",
            "180/180 [==============================] - 168s 932ms/step - loss: 0.0466 - accuracy: 0.9929 - precision: 0.9934 - recall: 0.9931 - auc: 0.9969 - val_loss: 0.1709 - val_accuracy: 0.9896 - val_precision: 0.9883 - val_recall: 0.9921 - val_auc: 0.9941\n",
            "Epoch 12/18\n",
            "180/180 [==============================] - 168s 932ms/step - loss: 0.0969 - accuracy: 0.9970 - precision: 0.9977 - recall: 0.9967 - auc: 0.9981 - val_loss: 0.4024 - val_accuracy: 0.9833 - val_precision: 0.9817 - val_recall: 0.9869 - val_auc: 0.9891\n",
            "Epoch 13/18\n",
            "180/180 [==============================] - 168s 931ms/step - loss: 0.0287 - accuracy: 0.9944 - precision: 0.9948 - recall: 0.9948 - auc: 0.9984 - val_loss: 0.0779 - val_accuracy: 0.9937 - val_precision: 0.9960 - val_recall: 0.9921 - val_auc: 0.9957\n",
            "Epoch 14/18\n",
            "180/180 [==============================] - 167s 930ms/step - loss: 0.0412 - accuracy: 0.9953 - precision: 0.9967 - recall: 0.9944 - auc: 0.9969 - val_loss: 0.0791 - val_accuracy: 0.9875 - val_precision: 0.9960 - val_recall: 0.9803 - val_auc: 0.9958\n",
            "Epoch 15/18\n",
            "180/180 [==============================] - 168s 931ms/step - loss: 0.0253 - accuracy: 0.9960 - precision: 0.9961 - recall: 0.9964 - auc: 0.9989 - val_loss: 0.1352 - val_accuracy: 0.9882 - val_precision: 0.9908 - val_recall: 0.9869 - val_auc: 0.9935\n",
            "Epoch 16/18\n",
            "180/180 [==============================] - 168s 933ms/step - loss: 0.0467 - accuracy: 0.9964 - precision: 0.9964 - recall: 0.9967 - auc: 0.9975 - val_loss: 0.0629 - val_accuracy: 0.9792 - val_precision: 0.9766 - val_recall: 0.9843 - val_auc: 0.9961\n",
            "Epoch 17/18\n",
            "180/180 [==============================] - 167s 927ms/step - loss: 0.0305 - accuracy: 0.9929 - precision: 0.9931 - recall: 0.9934 - auc: 0.9985 - val_loss: 0.2924 - val_accuracy: 0.9771 - val_precision: 0.9815 - val_recall: 0.9750 - val_auc: 0.9870\n",
            "Epoch 18/18\n",
            "180/180 [==============================] - 168s 932ms/step - loss: 0.0331 - accuracy: 0.9960 - precision: 0.9967 - recall: 0.9957 - auc: 0.9984 - val_loss: 0.2112 - val_accuracy: 0.9840 - val_precision: 0.9792 - val_recall: 0.9908 - val_auc: 0.9902\n"
          ]
        }
      ]
    },
    {
      "cell_type": "code",
      "source": [
        "print('\\nEpoch No.  Train Loss  Train Accuracy      Val Loss      Val Accuracy')\n",
        "Epochs = 18\n",
        "for i in range(Epochs):\n",
        "  print('{:8d} {:10f} \\t {:10f} \\t {:10f} \\t {:10f}'.format(i + 1, history.history['loss'][i], history.history['accuracy'][i], history.history['val_loss'][i], history.history['val_accuracy'][i]))"
      ],
      "metadata": {
        "colab": {
          "base_uri": "https://localhost:8080/"
        },
        "id": "PX9ePF2al9ox",
        "outputId": "afea6344-8de5-4f3a-8f4b-22cf48292371"
      },
      "execution_count": null,
      "outputs": [
        {
          "output_type": "stream",
          "name": "stdout",
          "text": [
            "\n",
            "Epoch No.  Train Loss  Train Accuracy      Val Loss      Val Accuracy\n",
            "       1   0.171202 \t   0.925263 \t   0.058366 \t   0.978472\n",
            "       2   0.088438 \t   0.981588 \t   0.065641 \t   0.976389\n",
            "       3   0.047062 \t   0.986972 \t   0.059835 \t   0.979167\n",
            "       4   0.044440 \t   0.987667 \t   0.034132 \t   0.990278\n",
            "       5   0.049259 \t   0.990620 \t   0.054866 \t   0.986111\n",
            "       6   0.058018 \t   0.992705 \t   0.118981 \t   0.984028\n",
            "       7   0.085091 \t   0.994963 \t   0.094704 \t   0.987500\n",
            "       8   0.061856 \t   0.990446 \t   0.062731 \t   0.994444\n",
            "       9   0.059303 \t   0.990968 \t   0.071824 \t   0.987500\n",
            "      10   0.046635 \t   0.994789 \t   0.102524 \t   0.992361\n",
            "      11   0.046609 \t   0.992878 \t   0.170880 \t   0.989583\n",
            "      12   0.096892 \t   0.997047 \t   0.402389 \t   0.983333\n",
            "      13   0.028699 \t   0.994442 \t   0.077903 \t   0.993750\n",
            "      14   0.041170 \t   0.995310 \t   0.079084 \t   0.987500\n",
            "      15   0.025339 \t   0.996005 \t   0.135230 \t   0.988194\n",
            "      16   0.046749 \t   0.996352 \t   0.062863 \t   0.979167\n",
            "      17   0.030522 \t   0.992878 \t   0.292354 \t   0.977083\n",
            "      18   0.033093 \t   0.996005 \t   0.211187 \t   0.984028\n"
          ]
        }
      ]
    },
    {
      "cell_type": "code",
      "source": [
        "score = top_model.evaluate(validation_generator)\n",
        "f1_score = (2*score[2]*score[3])/(score[2]+score[3])\n",
        "print(\"\\n\",\"Loss: \", score[0],\"\\n\", \"Accuracy: \", score[1],\"\\n\", \"Precision: \",score[2], \"\\n\",\"Recall: \",score[3],\"\\n\",\"F1-Score: \",f1_score,\"\\n\",\"AUC: \",score[4])"
      ],
      "metadata": {
        "colab": {
          "base_uri": "https://localhost:8080/"
        },
        "id": "pFOSury3l_pf",
        "outputId": "6ddc21b7-76a6-446c-9e44-02a05147ea54"
      },
      "execution_count": null,
      "outputs": [
        {
          "output_type": "stream",
          "name": "stdout",
          "text": [
            "46/46 [==============================] - 35s 746ms/step - loss: 0.2020 - accuracy: 0.9848 - precision: 0.9818 - recall: 0.9895 - auc: 0.9876\n",
            "\n",
            " Loss:  0.20197546482086182 \n",
            " Accuracy:  0.9847856163978577 \n",
            " Precision:  0.9818417429924011 \n",
            " Recall:  0.9895424842834473 \n",
            " F1-Score:  0.9856770730852985 \n",
            " AUC:  0.9875547885894775\n"
          ]
        }
      ]
    },
    {
      "cell_type": "code",
      "source": [
        "import matplotlib.pyplot as plt\n",
        "auc = [0.9058,0.9735, 0.9950,0.9980, 0.9976,0.9975,0.9985,0.9981,0.9969,0.9966,0.9973,0.9969,0.9981,0.9984,0.9969,0.9989,0.9975,0.9985,0.9984]\n",
        "val_auc = [0.9342,0.9976,0.9964,0.9975,0.9987, 0.9967,0.9932,0.9982,0.9964,0.9974,0.9956,0.9941,0.9891,0.9957,0.9958,0.9935,0.9961,0.9870,0.9902  ]\n",
        "plt.title('Model AUC in VGG19 for Binary Class Classification')\n",
        "plt.ylabel('AUC')\n",
        "plt.xlabel('Epoch')\n",
        "plt.plot(auc, label='train')\n",
        "plt.plot(val_auc, label='test')\n",
        "plt.legend()\n",
        "plt.show()\n"
      ],
      "metadata": {
        "colab": {
          "base_uri": "https://localhost:8080/",
          "height": 295
        },
        "id": "DjGwKZU5WM_n",
        "outputId": "84eae5bb-0ed4-4f44-94d3-a3368909be8c"
      },
      "execution_count": null,
      "outputs": [
        {
          "output_type": "display_data",
          "data": {
            "image/png": "[encoded data removed]",
            "text/plain": [
              "<Figure size 432x288 with 1 Axes>"
            ]
          },
          "metadata": {
            "needs_background": "light"
          }
        }
      ]
    },
    {
      "cell_type": "code",
      "metadata": {
        "colab": {
          "base_uri": "https://localhost:8080/",
          "height": 295
        },
        "id": "oaz_Hn_jUgvD",
        "outputId": "73b21c67-1f9e-4eb3-e463-833036d7486b"
      },
      "source": [
        "import matplotlib.pyplot as pyplot\n",
        "pyplot.title('Model Loss in VGG19 for Binary Class Classification')\n",
        "pyplot.ylabel('Loss')\n",
        "pyplot.xlabel('Epoch')\n",
        "pyplot.plot(history.history['loss'], label='train')\n",
        "pyplot.plot(history.history['val_loss'], label='test')\n",
        "pyplot.savefig('/content/drive/My Drive/DR_Messidor_Dataset/LossNASNetMobile.png')\n",
        "pyplot.legend()\n",
        "pyplot.show()"
      ],
      "execution_count": null,
      "outputs": [
        {
          "output_type": "display_data",
          "data": {
            "image/png": "[encoded data removed]",
            "text/plain": [
              "<Figure size 432x288 with 1 Axes>"
            ]
          },
          "metadata": {
            "needs_background": "light"
          }
        }
      ]
    },
    {
      "cell_type": "code",
      "metadata": {
        "colab": {
          "base_uri": "https://localhost:8080/",
          "height": 295
        },
        "id": "UbcOM67pU3-S",
        "outputId": "33a2c88d-1c90-4ba6-e018-ecee09e2af88"
      },
      "source": [
        "import matplotlib.pyplot as pyplot\n",
        "pyplot.title('Model Accuracy in VGG19 for Binary Class Classification')\n",
        "pyplot.ylabel('Accuracy')\n",
        "pyplot.xlabel('Epoch')\n",
        "pyplot.plot(history.history['accuracy'], label='train')\n",
        "pyplot.plot(history.history['val_accuracy'], label='test')\n",
        "pyplot.savefig('/content/drive/My Drive/DR_Messidor_Dataset/AccuracyNASNetMobile.png')\n",
        "pyplot.legend()\n",
        "pyplot.show()"
      ],
      "execution_count": null,
      "outputs": [
        {
          "output_type": "display_data",
          "data": {
            "image/png": "[encoded data removed]",
            "text/plain": [
              "<Figure size 432x288 with 1 Axes>"
            ]
          },
          "metadata": {
            "needs_background": "light"
          }
        }
      ]
    }
  ]
}